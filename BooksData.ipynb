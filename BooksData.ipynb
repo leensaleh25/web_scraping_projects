{
  "nbformat": 4,
  "nbformat_minor": 0,
  "metadata": {
    "colab": {
      "provenance": [],
      "authorship_tag": "ABX9TyNdPoIdsFH2YtJ17Fr2TZgw",
      "include_colab_link": true
    },
    "kernelspec": {
      "name": "python3",
      "display_name": "Python 3"
    },
    "language_info": {
      "name": "python"
    }
  },
  "cells": [
    {
      "cell_type": "markdown",
      "metadata": {
        "id": "view-in-github",
        "colab_type": "text"
      },
      "source": [
        "<a href=\"https://colab.research.google.com/github/leensaleh25/web_scraping_projects/blob/main/BooksData.ipynb\" target=\"_parent\"><img src=\"https://colab.research.google.com/assets/colab-badge.svg\" alt=\"Open In Colab\"/></a>"
      ]
    },
    {
      "cell_type": "code",
      "execution_count": 19,
      "metadata": {
        "id": "6NyWavvk0u0i"
      },
      "outputs": [],
      "source": [
        "from bs4 import BeautifulSoup\n",
        "import requests\n",
        "import pandas as pd\n",
        "from google.colab import files"
      ]
    },
    {
      "cell_type": "code",
      "source": [
        "books_titels=[]\n",
        "books_prices=[]\n",
        "books_stock=[]\n",
        "for i in range (1,51):\n",
        "    url=f\"https://books.toscrape.com/catalogue/page-{i}.html\"\n",
        "\n",
        "    headers = {\n",
        "        \"User-Agent\": \"Mozilla/5.0\"\n",
        "    }\n",
        "    page = requests.get(url, headers=headers)\n",
        "    soup = BeautifulSoup(page.text, \"html.parser\")\n",
        "    all_books=soup.find(\"section\")\n",
        "\n",
        "    books_data= all_books.find_all(\"li\",class_=\"col-xs-6 col-sm-4 col-md-3 col-lg-3\")\n",
        "    for book in books_data:\n",
        "        article= book.find(\"article\",class_=\"product_pod\")\n",
        "        if article:\n",
        "             title = article.find(\"h3\").find(\"a\")[\"title\"]\n",
        "             books_titels.append(title)\n",
        "             price=article.find(\"div\",class_=\"product_price\").find(\"p\",class_=\"price_color\").text.strip()\n",
        "             books_prices.append(price)\n",
        "             stock=article.find(\"div\",class_=\"product_price\").find(\"p\",class_=\"instock availability\").text.strip()\n",
        "             books_stock.append(stock)\n",
        "\n",
        "all_info={\n",
        "    \"title\":books_titels,\n",
        "    \"price\":books_prices,\n",
        "    \"stock\":books_stock\n",
        "}\n",
        "\n",
        "\n",
        "\n"
      ],
      "metadata": {
        "id": "yenA6p5Y0yD0"
      },
      "execution_count": 16,
      "outputs": []
    },
    {
      "cell_type": "code",
      "source": [
        "df=pd.DataFrame(all_info)\n",
        "df.to_csv(\"books.csv\")\n",
        "files.download(\"books.csv\")\n"
      ],
      "metadata": {
        "colab": {
          "base_uri": "https://localhost:8080/",
          "height": 17
        },
        "id": "knf5KwIY7caX",
        "outputId": "56e77d63-5bdd-482c-9b40-fca1e640a5af"
      },
      "execution_count": 20,
      "outputs": [
        {
          "output_type": "display_data",
          "data": {
            "text/plain": [
              "<IPython.core.display.Javascript object>"
            ],
            "application/javascript": [
              "\n",
              "    async function download(id, filename, size) {\n",
              "      if (!google.colab.kernel.accessAllowed) {\n",
              "        return;\n",
              "      }\n",
              "      const div = document.createElement('div');\n",
              "      const label = document.createElement('label');\n",
              "      label.textContent = `Downloading \"${filename}\": `;\n",
              "      div.appendChild(label);\n",
              "      const progress = document.createElement('progress');\n",
              "      progress.max = size;\n",
              "      div.appendChild(progress);\n",
              "      document.body.appendChild(div);\n",
              "\n",
              "      const buffers = [];\n",
              "      let downloaded = 0;\n",
              "\n",
              "      const channel = await google.colab.kernel.comms.open(id);\n",
              "      // Send a message to notify the kernel that we're ready.\n",
              "      channel.send({})\n",
              "\n",
              "      for await (const message of channel.messages) {\n",
              "        // Send a message to notify the kernel that we're ready.\n",
              "        channel.send({})\n",
              "        if (message.buffers) {\n",
              "          for (const buffer of message.buffers) {\n",
              "            buffers.push(buffer);\n",
              "            downloaded += buffer.byteLength;\n",
              "            progress.value = downloaded;\n",
              "          }\n",
              "        }\n",
              "      }\n",
              "      const blob = new Blob(buffers, {type: 'application/binary'});\n",
              "      const a = document.createElement('a');\n",
              "      a.href = window.URL.createObjectURL(blob);\n",
              "      a.download = filename;\n",
              "      div.appendChild(a);\n",
              "      a.click();\n",
              "      div.remove();\n",
              "    }\n",
              "  "
            ]
          },
          "metadata": {}
        },
        {
          "output_type": "display_data",
          "data": {
            "text/plain": [
              "<IPython.core.display.Javascript object>"
            ],
            "application/javascript": [
              "download(\"download_035c367f-a4c2-43f4-a77b-0989311be02e\", \"books.csv\", 63344)"
            ]
          },
          "metadata": {}
        }
      ]
    }
  ]
}